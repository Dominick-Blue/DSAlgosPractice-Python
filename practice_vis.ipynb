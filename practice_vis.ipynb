{
 "cells": [
  {
   "cell_type": "code",
   "execution_count": 1,
   "metadata": {
    "collapsed": true
   },
   "outputs": [
    {
     "name": "stdout",
     "output_type": "stream",
     "text": [
      "Found it!\n"
     ]
    }
   ],
   "source": [
    "# The purpose of this file is to document practice of data structures within the Python 3 language\n",
    "\n",
    "# Pythons Built-In Data structures\n",
    "\n",
    "# Sequence Types: We can access elements within these types with indexing\n",
    "\n",
    "# Strings\n",
    "\n",
    "# Indexing\n",
    "x = 'frog'\n",
    "# print(x[0]) # Gives us 'f'\n",
    "\n",
    "# Slicing\n",
    "x = 'Computer'\n",
    "if 'omp' in x:\n",
    "    print('Found it!')\n",
    "comp = x[:4].lower()\n",
    "cpe = x[::3].lower()\n",
    "# print(x[1:4]) # Starts at the 'o'. Start is inclusive and End is Non-inclusive\n",
    "# print(x[1:6:2]) # Retrieves every SECOND step or element\n",
    "# print(x[3:])\n",
    "# print(x[:5])\n",
    "# print(x[-1])\n",
    "# print(x[-3:])\n",
    "# print(x[:-2])\n",
    "# print(cpe)\n",
    "\n",
    "bug = 'bug'\n",
    "# print('x' in x)"
   ]
  },
  {
   "cell_type": "code",
   "execution_count": 36,
   "outputs": [
    {
     "name": "stdout",
     "output_type": "stream",
     "text": [
      "['car', 'chicken', 'cow', 'horse']\n"
     ]
    }
   ],
   "source": [
    "# lists\n",
    "\n",
    "# Adding and Concatenating\n",
    "\n",
    "y = ['cow', 'chicken', 'horse', 'car']\n",
    "zy = sorted(y)\n",
    "print(zy)\n",
    "# print('cow' not in y) # A way of checking membership\n",
    "\n",
    "# Iterating through the items in a sequence\n",
    "\n",
    "# for index, item in enumerate(y):\n",
    "#     print(index, item)\n",
    "\n",
    "xy = [y[1]] + ['house', 'airplane']\n",
    "\n",
    "num_list = [9, 10, 11, 2, 3]\n",
    "# print(sum(num_list))\n",
    "# print(num_list[::-2])\n",
    "# print(sum(num_list[::2]))\n",
    "\n",
    "# print(xy)"
   ],
   "metadata": {
    "collapsed": false,
    "pycharm": {
     "name": "#%%\n"
    }
   }
  },
  {
   "cell_type": "code",
   "execution_count": 41,
   "outputs": [
    {
     "name": "stdout",
     "output_type": "stream",
     "text": [
      "['Jasmine', 'Beverly', 'Diana', 'Dominick']\n",
      "1\n",
      "0\n"
     ]
    }
   ],
   "source": [
    "# tuples\n",
    "\n",
    "# tuples # Biggest difference between tuples and lists are that tuples are immutable and lists are mutable\n",
    "# tuples are faster than lists\n",
    "\n",
    "z = ('Dominick', 'Jasmine', 'Beverly', 'Diana')\n",
    "print(sorted(z, key=lambda k: k[1])) # Sorting based on second letter\n",
    "print(z.count('Dominick'))\n",
    "print(z.index('Dominick'))\n",
    "# print(min(z)) # For strings will print the alpha-numerically smallest element ('Beverly' is the first element)\n",
    "\n",
    "\n",
    "\n",
    "zy = z + ('JaeLynn',)\n",
    "\n",
    "zy = zy * 3\n",
    "# print(zy)"
   ],
   "metadata": {
    "collapsed": false,
    "pycharm": {
     "name": "#%%\n"
    }
   }
  },
  {
   "cell_type": "code",
   "execution_count": 5,
   "outputs": [],
   "source": [
    "# sets"
   ],
   "metadata": {
    "collapsed": false,
    "pycharm": {
     "name": "#%%\n"
    }
   }
  },
  {
   "cell_type": "code",
   "execution_count": 6,
   "outputs": [],
   "source": [
    "# linked lists"
   ],
   "metadata": {
    "collapsed": false,
    "pycharm": {
     "name": "#%%\n"
    }
   }
  },
  {
   "cell_type": "code",
   "execution_count": 7,
   "outputs": [],
   "source": [
    "# heaps"
   ],
   "metadata": {
    "collapsed": false,
    "pycharm": {
     "name": "#%%\n"
    }
   }
  },
  {
   "cell_type": "code",
   "execution_count": 8,
   "outputs": [],
   "source": [
    "# hash maps"
   ],
   "metadata": {
    "collapsed": false,
    "pycharm": {
     "name": "#%%\n"
    }
   }
  },
  {
   "cell_type": "code",
   "execution_count": 9,
   "outputs": [],
   "source": [
    "# queues"
   ],
   "metadata": {
    "collapsed": false,
    "pycharm": {
     "name": "#%%\n"
    }
   }
  },
  {
   "cell_type": "code",
   "execution_count": 10,
   "outputs": [],
   "source": [
    "# stacks"
   ],
   "metadata": {
    "collapsed": false,
    "pycharm": {
     "name": "#%%\n"
    }
   }
  },
  {
   "cell_type": "code",
   "execution_count": 10,
   "outputs": [],
   "source": [
    "# binary search trees"
   ],
   "metadata": {
    "collapsed": false,
    "pycharm": {
     "name": "#%%\n"
    }
   }
  },
  {
   "cell_type": "code",
   "execution_count": null,
   "outputs": [],
   "source": [],
   "metadata": {
    "collapsed": false,
    "pycharm": {
     "name": "#%%\n"
    }
   }
  }
 ],
 "metadata": {
  "kernelspec": {
   "display_name": "Python 3",
   "language": "python",
   "name": "python3"
  },
  "language_info": {
   "codemirror_mode": {
    "name": "ipython",
    "version": 2
   },
   "file_extension": ".py",
   "mimetype": "text/x-python",
   "name": "python",
   "nbconvert_exporter": "python",
   "pygments_lexer": "ipython2",
   "version": "2.7.6"
  }
 },
 "nbformat": 4,
 "nbformat_minor": 0
}